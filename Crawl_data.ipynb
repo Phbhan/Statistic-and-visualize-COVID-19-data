{
 "cells": [
  {
   "cell_type": "code",
   "execution_count": 1,
   "id": "9700c7f9",
   "metadata": {},
   "outputs": [],
   "source": [
    "from selenium import webdriver\n",
    "from selenium.webdriver.support.ui import WebDriverWait\n",
    "from selenium.webdriver.chrome.service import Service\n",
    "from time import sleep\n",
    "from datetime import datetime, timedelta\n",
    "import string\n",
    "import csv\n",
    "from bs4 import BeautifulSoup"
   ]
  },
  {
   "cell_type": "code",
   "execution_count": 2,
   "id": "7e733597",
   "metadata": {},
   "outputs": [],
   "source": [
    "\n",
    "class WorldometersCrawl:\n",
    "    def __init__(self):\n",
    "        self.service = Service(\".\\chromedriver.exe\")\n",
    "        self.driver = webdriver.Chrome(service=self.service, options=self.driver_option())\n",
    "        self.driver.implicitly_wait(5)\n",
    "        \n",
    "    def driver_option(self):\n",
    "        options = webdriver.ChromeOptions()\n",
    "        #options.add_argument(\"--headless\")\n",
    "        options.add_argument(\"--window-size=2000x2000\")\n",
    "        options.add_argument(\"start-maximized\")\n",
    "        options.add_argument('--ignore-certificate-errors')\n",
    "        options.add_argument('--no-sandbox')\n",
    "        options.add_argument('--disable-dev-shm-usage')\n",
    "        options.add_argument('--blink-settings=imagesEnabled=false')\n",
    "        options.add_argument('disable-infobars')\n",
    "        options.add_argument(\"--verbose\")\n",
    "        options.add_argument(\"--no-default-browser-check\")\n",
    "        options.add_argument(\"--ignore-ssl-errors\")\n",
    "        options.add_argument(\"--allow-running-insecure-content\")\n",
    "        options.add_argument(\"--disable-web-security\")\n",
    "        options.add_argument(\"--disable-feature=IsolateOrigins,site-per-process\")\n",
    "        options.add_argument(\"--no-first-run\")\n",
    "        options.add_argument(\"--mute-audio\")\n",
    "        options.add_argument(\"--disable-notifications\")\n",
    "        options.add_argument(\"--disable-dev-shm-usage\")\n",
    "        options.add_argument(\"--disable-translate\")\n",
    "        options.add_argument(\"--ignore-certificate-error-spki-list\")\n",
    "        options.add_argument(\"--ignore-certificate-errors\")\n",
    "        options.add_argument(\"--disable-blink-features=AutomationControllered\")\n",
    "        options.add_experimental_option('useAutomationExtension', False)\n",
    "        prefs = {\"profile.default_content_setting_values.notifications\": 2}\n",
    "        options.add_experimental_option(\"prefs\", prefs)\n",
    "        # overcome limited resource problems\n",
    "        options.add_argument(\"--disable-dev-shm-usage\")\n",
    "        options.add_experimental_option(\n",
    "            \"excludeSwitches\", [\"enable-automation\"])\n",
    "        options.add_experimental_option(\n",
    "            \"prefs\", {\"profile.managed_default_content_settings.images\": 2})\n",
    "        options.add_argument(\"user-agent=foo\")\n",
    "        return options\n",
    "    \n",
    "    def open_link(self, link):\n",
    "        self.driver.get(link)\n",
    "        \n",
    "    def main(self):\n",
    "        self.open_link('https://www.worldometers.info/coronavirus/')\n",
    "        data = self.crawl_data()\n",
    "        csvfile = str((datetime.today() - timedelta(days=2)).strftime(\"%d-%m-%Y\")) + \" raw.csv\"\n",
    "        print(csvfile)\n",
    "        self.write_data(csvfile, data)\n",
    "        \n",
    "    def crawl_data(self):\n",
    "        data = []\n",
    "        url = self.driver.current_url\n",
    "        \n",
    "        html_source = self.driver.page_source \n",
    "        soup = BeautifulSoup(html_source, 'html.parser')\n",
    "        \n",
    "        elements = soup.find('table',{'id':'main_table_countries_yesterday2'}).find_all('tr', {'role': 'row'})\n",
    "        for i in range(1, len(elements)):\n",
    "            el = elements[i].find_all('td')\n",
    "            data.append([el[i].text.strip() for i in range(1,16)])\n",
    "        return data\n",
    "\n",
    "    def write_data(self, file, data):\n",
    "        header = ['Country, Other','Total cases','New cases','Total deaths','New deaths',\n",
    "                  'Total recovered','New recovered','Active cases', 'Serious, Critical', 'Tot Cases/1M pop', 'Deaths/1M pop',\n",
    "                  'Total tests','Test/1M pop','Population', 'Continent']\n",
    "        with open(file, 'w', encoding='UTF8', newline='') as csvfile:\n",
    "            writer = csv.writer(csvfile, quoting=csv.QUOTE_NONNUMERIC, delimiter=',')\n",
    "            writer.writerow(header) # Write header \n",
    "            for line in data:\n",
    "                writer.writerow(line) # Write user information into file"
   ]
  },
  {
   "cell_type": "code",
   "execution_count": 3,
   "id": "5ce9409c",
   "metadata": {},
   "outputs": [
    {
     "name": "stdout",
     "output_type": "stream",
     "text": [
      "04-12-2021 raw.csv\n"
     ]
    }
   ],
   "source": [
    "worldometers = WorldometersCrawl()\n",
    "worldometers.main()"
   ]
  }
 ],
 "metadata": {
  "kernelspec": {
   "display_name": "Python 3",
   "language": "python",
   "name": "python3"
  },
  "language_info": {
   "codemirror_mode": {
    "name": "ipython",
    "version": 3
   },
   "file_extension": ".py",
   "mimetype": "text/x-python",
   "name": "python",
   "nbconvert_exporter": "python",
   "pygments_lexer": "ipython3",
   "version": "3.8.8"
  }
 },
 "nbformat": 4,
 "nbformat_minor": 5
}
